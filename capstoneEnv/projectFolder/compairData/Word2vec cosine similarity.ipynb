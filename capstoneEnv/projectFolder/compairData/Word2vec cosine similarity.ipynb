{
 "cells": [
  {
   "cell_type": "markdown",
   "metadata": {},
   "source": [
    "#  *Data Comparision*"
   ]
  },
  {
   "cell_type": "markdown",
   "metadata": {},
   "source": [
    "from the data scraped from the Googole compare the data with the user query using simantic similarity methods"
   ]
  },
  {
   "cell_type": "code",
   "execution_count": 1,
   "metadata": {},
   "outputs": [],
   "source": [
    "#! pip install pandas"
   ]
  },
  {
   "cell_type": "code",
   "execution_count": 2,
   "metadata": {},
   "outputs": [],
   "source": [
    "import pandas as pd\n",
    "import json"
   ]
  },
  {
   "cell_type": "markdown",
   "metadata": {},
   "source": [
    "### load the universal sentence encoder from tensorflow_hub "
   ]
  },
  {
   "cell_type": "code",
   "execution_count": 3,
   "metadata": {},
   "outputs": [],
   "source": [
    "import tensorflow_hub as hub\n",
    "import tensorflow as tf\n",
    "import numpy as np"
   ]
  },
  {
   "cell_type": "code",
   "execution_count": 4,
   "metadata": {
    "scrolled": true
   },
   "outputs": [
    {
     "name": "stdout",
     "output_type": "stream",
     "text": [
      "module https://tfhub.dev/google/universal-sentence-encoder/4 loaded\n"
     ]
    }
   ],
   "source": [
    "module_url = \"https://tfhub.dev/google/universal-sentence-encoder/4\" \n",
    "model = hub.load(module_url)\n",
    "print (\"module %s loaded\" % module_url)\n",
    "def embed(input):\n",
    "    return model(input)"
   ]
  },
  {
   "cell_type": "markdown",
   "metadata": {},
   "source": [
    "### create the embedings for the data collected from the google "
   ]
  },
  {
   "cell_type": "code",
   "execution_count": 5,
   "metadata": {},
   "outputs": [
    {
     "data": {
      "text/html": [
       "<div>\n",
       "<style scoped>\n",
       "    .dataframe tbody tr th:only-of-type {\n",
       "        vertical-align: middle;\n",
       "    }\n",
       "\n",
       "    .dataframe tbody tr th {\n",
       "        vertical-align: top;\n",
       "    }\n",
       "\n",
       "    .dataframe thead th {\n",
       "        text-align: right;\n",
       "    }\n",
       "</style>\n",
       "<table border=\"1\" class=\"dataframe\">\n",
       "  <thead>\n",
       "    <tr style=\"text-align: right;\">\n",
       "      <th></th>\n",
       "      <th>url</th>\n",
       "      <th>title</th>\n",
       "      <th>h1</th>\n",
       "    </tr>\n",
       "  </thead>\n",
       "  <tbody>\n",
       "    <tr>\n",
       "      <th>0</th>\n",
       "      <td>https://en.wikipedia.org/wiki/Semantic_Web</td>\n",
       "      <td>[Semantic Web - Wikipedia]</td>\n",
       "      <td>[Semantic Web]</td>\n",
       "    </tr>\n",
       "    <tr>\n",
       "      <th>1</th>\n",
       "      <td>https://www.researchgate.net/publication/33364...</td>\n",
       "      <td>[(PDF) Semantic Web Mining: Survey and Analysis]</td>\n",
       "      <td>[Semantic Web Mining Survey and Analysis]</td>\n",
       "    </tr>\n",
       "    <tr>\n",
       "      <th>2</th>\n",
       "      <td>https://support.google.com/</td>\n",
       "      <td>[Google Help]</td>\n",
       "      <td>[]</td>\n",
       "    </tr>\n",
       "    <tr>\n",
       "      <th>3</th>\n",
       "      <td>http://www.public.asu.edu/~hdavulcu/CSE591_Sem...</td>\n",
       "      <td>[CSE591: Semantic Web Mining]</td>\n",
       "      <td>[]</td>\n",
       "    </tr>\n",
       "    <tr>\n",
       "      <th>4</th>\n",
       "      <td>https://www.researchgate.net/publication/25755...</td>\n",
       "      <td>[(PDF) Mining the Semantic Web]</td>\n",
       "      <td>[Mining the Semantic Web]</td>\n",
       "    </tr>\n",
       "    <tr>\n",
       "      <th>5</th>\n",
       "      <td>https://www.slideshare.net/anilmlis/semantic-w...</td>\n",
       "      <td>[Semantic Web Mining]</td>\n",
       "      <td>[]</td>\n",
       "    </tr>\n",
       "    <tr>\n",
       "      <th>6</th>\n",
       "      <td>https://s3-us-west-2.amazonaws.com/ieeeshutpag...</td>\n",
       "      <td>[IEEE Xplore is temporarily unavailable]</td>\n",
       "      <td>[IEEE ,  is temporarily unavailable]</td>\n",
       "    </tr>\n",
       "  </tbody>\n",
       "</table>\n",
       "</div>"
      ],
      "text/plain": [
       "                                                 url  \\\n",
       "0         https://en.wikipedia.org/wiki/Semantic_Web   \n",
       "1  https://www.researchgate.net/publication/33364...   \n",
       "2                        https://support.google.com/   \n",
       "3  http://www.public.asu.edu/~hdavulcu/CSE591_Sem...   \n",
       "4  https://www.researchgate.net/publication/25755...   \n",
       "5  https://www.slideshare.net/anilmlis/semantic-w...   \n",
       "6  https://s3-us-west-2.amazonaws.com/ieeeshutpag...   \n",
       "\n",
       "                                              title  \\\n",
       "0                        [Semantic Web - Wikipedia]   \n",
       "1  [(PDF) Semantic Web Mining: Survey and Analysis]   \n",
       "2                                     [Google Help]   \n",
       "3                     [CSE591: Semantic Web Mining]   \n",
       "4                   [(PDF) Mining the Semantic Web]   \n",
       "5                             [Semantic Web Mining]   \n",
       "6          [IEEE Xplore is temporarily unavailable]   \n",
       "\n",
       "                                          h1  \n",
       "0                             [Semantic Web]  \n",
       "1  [Semantic Web Mining Survey and Analysis]  \n",
       "2                                         []  \n",
       "3                                         []  \n",
       "4                  [Mining the Semantic Web]  \n",
       "5                                         []  \n",
       "6       [IEEE ,  is temporarily unavailable]  "
      ]
     },
     "execution_count": 5,
     "metadata": {},
     "output_type": "execute_result"
    }
   ],
   "source": [
    "#convert json to pandas dataframe \n",
    "data = pd.read_json(r'..\\scrapData\\data.json')\n",
    "data.head(8)"
   ]
  },
  {
   "cell_type": "code",
   "execution_count": 6,
   "metadata": {},
   "outputs": [],
   "source": [
    "#d.x = d.x.apply(lambda y: np.nan if len(y)==0 else y)\n",
    "data.h1 = data.h1.apply(lambda y : [\"no data\"] if len(y)==0 else y)"
   ]
  },
  {
   "cell_type": "code",
   "execution_count": 7,
   "metadata": {},
   "outputs": [
    {
     "data": {
      "text/plain": [
       "0                               [Semantic Web]\n",
       "1    [Semantic Web Mining Survey and Analysis]\n",
       "2                                    [no data]\n",
       "3                                    [no data]\n",
       "4                    [Mining the Semantic Web]\n",
       "5                                    [no data]\n",
       "6         [IEEE ,  is temporarily unavailable]\n",
       "Name: h1, dtype: object"
      ]
     },
     "execution_count": 7,
     "metadata": {},
     "output_type": "execute_result"
    }
   ],
   "source": [
    "# h1 = data['h1']\n",
    "# embeded_data = embed(data)\n",
    "data['h1']"
   ]
  },
  {
   "cell_type": "code",
   "execution_count": 8,
   "metadata": {},
   "outputs": [],
   "source": [
    "#embed(data.h1.tolist()[7])\n",
    "converted_h1 = data.h1.tolist() \n",
    "for i in range(len(converted_h1)) :\n",
    "    converted_h1[i] = embed(converted_h1[i])\n",
    "#print(converted_h1)  "
   ]
  },
  {
   "cell_type": "code",
   "execution_count": 9,
   "metadata": {},
   "outputs": [],
   "source": [
    "# add embeded text to the dataframe\n",
    "data['embeded_h1'] = converted_h1"
   ]
  },
  {
   "cell_type": "code",
   "execution_count": 10,
   "metadata": {},
   "outputs": [],
   "source": [
    "#read the query file\n",
    "query_file = open('..\\scrapData\\query.txt')\n",
    "query = query_file.readline()"
   ]
  },
  {
   "cell_type": "code",
   "execution_count": 11,
   "metadata": {},
   "outputs": [],
   "source": [
    "#embed the search query\n",
    "query_embeded = embed([query])"
   ]
  },
  {
   "cell_type": "code",
   "execution_count": null,
   "metadata": {},
   "outputs": [],
   "source": []
  },
  {
   "cell_type": "markdown",
   "metadata": {},
   "source": [
    "### Compair the simanitc of the search query and the google results"
   ]
  },
  {
   "cell_type": "code",
   "execution_count": 12,
   "metadata": {},
   "outputs": [],
   "source": [
    "\n",
    "from sklearn.metrics.pairwise import cosine_similarity"
   ]
  },
  {
   "cell_type": "code",
   "execution_count": 13,
   "metadata": {},
   "outputs": [],
   "source": [
    "# cosine similarity WRT to header tags\n",
    "cos_sim = []\n",
    "for i in data.index:\n",
    "    \n",
    "    #cosine_similarity(converted_h1[i],query_embeded)\n",
    "    cos_sim.append(cosine_similarity(converted_h1[i],query_embeded))\n",
    "    "
   ]
  },
  {
   "cell_type": "code",
   "execution_count": 14,
   "metadata": {},
   "outputs": [],
   "source": [
    "# l = []\n",
    "# for i in data.h1:\n",
    "#     l.append(str(i[0]))\n",
    "# l\n",
    "#cummulative_cos = []\n",
    "for i in range(len(cos_sim)):\n",
    "    \n",
    "#     cummulative_cos.append((sum(cos_sim[i][:])/len(cos_sim[i][:])))\n",
    "    #print(cos_sim[i])\n",
    "    cos_sim[i] = float(sum(cos_sim[i][:])/len(cos_sim[i][:]))\n",
    "    #print(cos_sim[i])\n",
    "#cos_sim"
   ]
  },
  {
   "cell_type": "code",
   "execution_count": 15,
   "metadata": {},
   "outputs": [],
   "source": [
    "data['cosine_similarity'] = cos_sim"
   ]
  },
  {
   "cell_type": "code",
   "execution_count": 16,
   "metadata": {},
   "outputs": [
    {
     "data": {
      "text/html": [
       "<div>\n",
       "<style scoped>\n",
       "    .dataframe tbody tr th:only-of-type {\n",
       "        vertical-align: middle;\n",
       "    }\n",
       "\n",
       "    .dataframe tbody tr th {\n",
       "        vertical-align: top;\n",
       "    }\n",
       "\n",
       "    .dataframe thead th {\n",
       "        text-align: right;\n",
       "    }\n",
       "</style>\n",
       "<table border=\"1\" class=\"dataframe\">\n",
       "  <thead>\n",
       "    <tr style=\"text-align: right;\">\n",
       "      <th></th>\n",
       "      <th>url</th>\n",
       "      <th>title</th>\n",
       "      <th>h1</th>\n",
       "      <th>embeded_h1</th>\n",
       "      <th>cosine_similarity</th>\n",
       "    </tr>\n",
       "  </thead>\n",
       "  <tbody>\n",
       "    <tr>\n",
       "      <th>0</th>\n",
       "      <td>https://en.wikipedia.org/wiki/Semantic_Web</td>\n",
       "      <td>[Semantic Web - Wikipedia]</td>\n",
       "      <td>[Semantic Web]</td>\n",
       "      <td>((tf.Tensor(0.057723746, shape=(), dtype=float...</td>\n",
       "      <td>0.519466</td>\n",
       "    </tr>\n",
       "    <tr>\n",
       "      <th>1</th>\n",
       "      <td>https://www.researchgate.net/publication/33364...</td>\n",
       "      <td>[(PDF) Semantic Web Mining: Survey and Analysis]</td>\n",
       "      <td>[Semantic Web Mining Survey and Analysis]</td>\n",
       "      <td>((tf.Tensor(0.058095824, shape=(), dtype=float...</td>\n",
       "      <td>0.622203</td>\n",
       "    </tr>\n",
       "    <tr>\n",
       "      <th>2</th>\n",
       "      <td>https://support.google.com/</td>\n",
       "      <td>[Google Help]</td>\n",
       "      <td>[no data]</td>\n",
       "      <td>((tf.Tensor(-0.050970808, shape=(), dtype=floa...</td>\n",
       "      <td>0.062301</td>\n",
       "    </tr>\n",
       "    <tr>\n",
       "      <th>3</th>\n",
       "      <td>http://www.public.asu.edu/~hdavulcu/CSE591_Sem...</td>\n",
       "      <td>[CSE591: Semantic Web Mining]</td>\n",
       "      <td>[no data]</td>\n",
       "      <td>((tf.Tensor(-0.050970808, shape=(), dtype=floa...</td>\n",
       "      <td>0.062301</td>\n",
       "    </tr>\n",
       "    <tr>\n",
       "      <th>4</th>\n",
       "      <td>https://www.researchgate.net/publication/25755...</td>\n",
       "      <td>[(PDF) Mining the Semantic Web]</td>\n",
       "      <td>[Mining the Semantic Web]</td>\n",
       "      <td>((tf.Tensor(0.06788203, shape=(), dtype=float3...</td>\n",
       "      <td>0.760898</td>\n",
       "    </tr>\n",
       "    <tr>\n",
       "      <th>5</th>\n",
       "      <td>https://www.slideshare.net/anilmlis/semantic-w...</td>\n",
       "      <td>[Semantic Web Mining]</td>\n",
       "      <td>[no data]</td>\n",
       "      <td>((tf.Tensor(-0.050970808, shape=(), dtype=floa...</td>\n",
       "      <td>0.062301</td>\n",
       "    </tr>\n",
       "    <tr>\n",
       "      <th>6</th>\n",
       "      <td>https://s3-us-west-2.amazonaws.com/ieeeshutpag...</td>\n",
       "      <td>[IEEE Xplore is temporarily unavailable]</td>\n",
       "      <td>[IEEE ,  is temporarily unavailable]</td>\n",
       "      <td>((tf.Tensor(-0.037304126, shape=(), dtype=floa...</td>\n",
       "      <td>0.115383</td>\n",
       "    </tr>\n",
       "  </tbody>\n",
       "</table>\n",
       "</div>"
      ],
      "text/plain": [
       "                                                 url  \\\n",
       "0         https://en.wikipedia.org/wiki/Semantic_Web   \n",
       "1  https://www.researchgate.net/publication/33364...   \n",
       "2                        https://support.google.com/   \n",
       "3  http://www.public.asu.edu/~hdavulcu/CSE591_Sem...   \n",
       "4  https://www.researchgate.net/publication/25755...   \n",
       "5  https://www.slideshare.net/anilmlis/semantic-w...   \n",
       "6  https://s3-us-west-2.amazonaws.com/ieeeshutpag...   \n",
       "\n",
       "                                              title  \\\n",
       "0                        [Semantic Web - Wikipedia]   \n",
       "1  [(PDF) Semantic Web Mining: Survey and Analysis]   \n",
       "2                                     [Google Help]   \n",
       "3                     [CSE591: Semantic Web Mining]   \n",
       "4                   [(PDF) Mining the Semantic Web]   \n",
       "5                             [Semantic Web Mining]   \n",
       "6          [IEEE Xplore is temporarily unavailable]   \n",
       "\n",
       "                                          h1  \\\n",
       "0                             [Semantic Web]   \n",
       "1  [Semantic Web Mining Survey and Analysis]   \n",
       "2                                  [no data]   \n",
       "3                                  [no data]   \n",
       "4                  [Mining the Semantic Web]   \n",
       "5                                  [no data]   \n",
       "6       [IEEE ,  is temporarily unavailable]   \n",
       "\n",
       "                                          embeded_h1  cosine_similarity  \n",
       "0  ((tf.Tensor(0.057723746, shape=(), dtype=float...           0.519466  \n",
       "1  ((tf.Tensor(0.058095824, shape=(), dtype=float...           0.622203  \n",
       "2  ((tf.Tensor(-0.050970808, shape=(), dtype=floa...           0.062301  \n",
       "3  ((tf.Tensor(-0.050970808, shape=(), dtype=floa...           0.062301  \n",
       "4  ((tf.Tensor(0.06788203, shape=(), dtype=float3...           0.760898  \n",
       "5  ((tf.Tensor(-0.050970808, shape=(), dtype=floa...           0.062301  \n",
       "6  ((tf.Tensor(-0.037304126, shape=(), dtype=floa...           0.115383  "
      ]
     },
     "execution_count": 16,
     "metadata": {},
     "output_type": "execute_result"
    }
   ],
   "source": [
    "data"
   ]
  },
  {
   "cell_type": "code",
   "execution_count": 17,
   "metadata": {},
   "outputs": [
    {
     "data": {
      "text/html": [
       "<div>\n",
       "<style scoped>\n",
       "    .dataframe tbody tr th:only-of-type {\n",
       "        vertical-align: middle;\n",
       "    }\n",
       "\n",
       "    .dataframe tbody tr th {\n",
       "        vertical-align: top;\n",
       "    }\n",
       "\n",
       "    .dataframe thead th {\n",
       "        text-align: right;\n",
       "    }\n",
       "</style>\n",
       "<table border=\"1\" class=\"dataframe\">\n",
       "  <thead>\n",
       "    <tr style=\"text-align: right;\">\n",
       "      <th></th>\n",
       "      <th>url</th>\n",
       "      <th>h1</th>\n",
       "      <th>cosine_similarity</th>\n",
       "    </tr>\n",
       "  </thead>\n",
       "  <tbody>\n",
       "    <tr>\n",
       "      <th>4</th>\n",
       "      <td>https://www.researchgate.net/publication/25755...</td>\n",
       "      <td>[Mining the Semantic Web]</td>\n",
       "      <td>0.760898</td>\n",
       "    </tr>\n",
       "    <tr>\n",
       "      <th>1</th>\n",
       "      <td>https://www.researchgate.net/publication/33364...</td>\n",
       "      <td>[Semantic Web Mining Survey and Analysis]</td>\n",
       "      <td>0.622203</td>\n",
       "    </tr>\n",
       "    <tr>\n",
       "      <th>0</th>\n",
       "      <td>https://en.wikipedia.org/wiki/Semantic_Web</td>\n",
       "      <td>[Semantic Web]</td>\n",
       "      <td>0.519466</td>\n",
       "    </tr>\n",
       "    <tr>\n",
       "      <th>6</th>\n",
       "      <td>https://s3-us-west-2.amazonaws.com/ieeeshutpag...</td>\n",
       "      <td>[IEEE ,  is temporarily unavailable]</td>\n",
       "      <td>0.115383</td>\n",
       "    </tr>\n",
       "    <tr>\n",
       "      <th>2</th>\n",
       "      <td>https://support.google.com/</td>\n",
       "      <td>[no data]</td>\n",
       "      <td>0.062301</td>\n",
       "    </tr>\n",
       "    <tr>\n",
       "      <th>3</th>\n",
       "      <td>http://www.public.asu.edu/~hdavulcu/CSE591_Sem...</td>\n",
       "      <td>[no data]</td>\n",
       "      <td>0.062301</td>\n",
       "    </tr>\n",
       "    <tr>\n",
       "      <th>5</th>\n",
       "      <td>https://www.slideshare.net/anilmlis/semantic-w...</td>\n",
       "      <td>[no data]</td>\n",
       "      <td>0.062301</td>\n",
       "    </tr>\n",
       "  </tbody>\n",
       "</table>\n",
       "</div>"
      ],
      "text/plain": [
       "                                                 url  \\\n",
       "4  https://www.researchgate.net/publication/25755...   \n",
       "1  https://www.researchgate.net/publication/33364...   \n",
       "0         https://en.wikipedia.org/wiki/Semantic_Web   \n",
       "6  https://s3-us-west-2.amazonaws.com/ieeeshutpag...   \n",
       "2                        https://support.google.com/   \n",
       "3  http://www.public.asu.edu/~hdavulcu/CSE591_Sem...   \n",
       "5  https://www.slideshare.net/anilmlis/semantic-w...   \n",
       "\n",
       "                                          h1  cosine_similarity  \n",
       "4                  [Mining the Semantic Web]           0.760898  \n",
       "1  [Semantic Web Mining Survey and Analysis]           0.622203  \n",
       "0                             [Semantic Web]           0.519466  \n",
       "6       [IEEE ,  is temporarily unavailable]           0.115383  \n",
       "2                                  [no data]           0.062301  \n",
       "3                                  [no data]           0.062301  \n",
       "5                                  [no data]           0.062301  "
      ]
     },
     "execution_count": 17,
     "metadata": {},
     "output_type": "execute_result"
    }
   ],
   "source": [
    "data.sort_values(by=['cosine_similarity'],ascending=False ,inplace=True)\n",
    "data[['url','h1','cosine_similarity']]"
   ]
  },
  {
   "cell_type": "code",
   "execution_count": null,
   "metadata": {},
   "outputs": [],
   "source": []
  },
  {
   "cell_type": "code",
   "execution_count": null,
   "metadata": {},
   "outputs": [],
   "source": []
  }
 ],
 "metadata": {
  "kernelspec": {
   "display_name": "Python 3",
   "language": "python",
   "name": "python3"
  },
  "language_info": {
   "codemirror_mode": {
    "name": "ipython",
    "version": 3
   },
   "file_extension": ".py",
   "mimetype": "text/x-python",
   "name": "python",
   "nbconvert_exporter": "python",
   "pygments_lexer": "ipython3",
   "version": "3.8.10"
  }
 },
 "nbformat": 4,
 "nbformat_minor": 2
}
